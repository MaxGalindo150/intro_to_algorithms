{
 "cells": [
  {
   "cell_type": "markdown",
   "metadata": {},
   "source": [
    "# Getting Started\n",
    "\n",
    "We begin by examining the inserion sort alghorithm to solve the sorting problem.\n",
    "\n",
    "## Insertion sort\n",
    "\n",
    "**Input:** A sequence of $n$ number $\\langle a_1, a_2,..., a_n \\rangle$\n",
    "\n",
    "**Output:** A permutation (reordering) $\\langle a_1, a_2,..., a_n \\rangle$ of the input sequence such that $a'_1 \\leq a'_2 \\leq ... \\leq a'_n$\n",
    "\n",
    "The **insertion sort** algorithm is very efficient for sorting a small number of elements. Insertion sort works the way many people sort a hand of playing cards. We start with an empty left hand and the cards face down on the table. We then remove one card at a time from the table and insert it into the correct postion in the left hand. To find the correct position for a card, we compare it with each of the cards already in the hand, from right to left. \n",
    "\n",
    "I present my code for insertion sort as a procedure called `insertion_sort`, which takes as a parameter an array `A[0:n]` containing a sequence of length `n` that is to be sorted. The algorith sorts the input numbers **in place**: it rearranges the numbers within the array `A`, with at most a constant number of them stored outside the array at any time. The input array `A` contains the sorted output sequence when the `insertion_sort` procedure is finished."
   ]
  },
  {
   "cell_type": "code",
   "execution_count": 2,
   "metadata": {},
   "outputs": [
    {
     "name": "stdout",
     "output_type": "stream",
     "text": [
      "Array messy: [5, 2, 4, 6, 1, 3]\n",
      "Sorted array: [1, 2, 3, 4, 5, 6]\n"
     ]
    }
   ],
   "source": [
    "def insertion_sort(A: list[int]) -> list[int]:\n",
    "    for j in range(1, len(A)):\n",
    "        key = A[j]\n",
    "        #insert A[j] into the sorted sequence A[1:j-1]\n",
    "        i = j - 1\n",
    "        while i >= 0 and A[i] > key:\n",
    "            A[i + 1] = A[i]\n",
    "            i -= 1\n",
    "        A[i + 1] = key\n",
    "    return A\n",
    "\n",
    "# Example\n",
    "A = [5, 2, 4, 6, 1, 3]\n",
    "print(f'Array messy: {A}')\n",
    "A = insertion_sort(A)\n",
    "print(f'Sorted array: {A}' )"
   ]
  },
  {
   "cell_type": "markdown",
   "metadata": {},
   "source": [
    "## Analyzing Algorithms\n",
    "\n",
    "In the *Insertion Sort* algorithm we have a `for` loop. Therefore, for each $j = 1, 2,\\dots,n$, where $n =$ `len(A)`, we let $t_{j}$ denote the number of times the `while` loop test is executed for that value of $j$. When a `for` or `while` loop exits in the usar way, the test is executed one time more than the loop body. We assume that comments are not executable statements, and so they take no time."
   ]
  },
  {
   "cell_type": "markdown",
   "metadata": {},
   "source": []
  },
  {
   "cell_type": "code",
   "execution_count": 3,
   "metadata": {},
   "outputs": [],
   "source": [
    "def insertion_sort(A: list[int]) -> list[int]: # ------------> cost | times\n",
    "    for j in range(1, len(A)): # ---------------------------->  c1  |   n\n",
    "        key = A[j] # ---------------------------------------->  c2  | n - 1\n",
    "        #insert A[j] into the sorted sequence A[1:j-1] # ---->   0  | n - 1\n",
    "        i = j - 1 # ----------------------------------------->  c4  | n - 1\n",
    "        while i >= 0 and A[i] > key: # ---------------------->  c5  | Σ j=1 to n t_j\n",
    "            A[i + 1] = A[i] # ------------------------------->  c6  | Σ j=1 to n (t_j - 1)\n",
    "            i -= 1 # ---------------------------------------->  c7  | Σ j=1 to n (t_j - 1)\n",
    "        A[i + 1] = key # ----------------------------------->   c8  | n - 1\n",
    "    return A # --------------------------------------------->   c9  | 1"
   ]
  },
  {
   "cell_type": "markdown",
   "metadata": {},
   "source": [
    "The running time of the algorithm is the sum of the running times for each statment executed. To compute $T(n)$ the running time of *Insertion Sort* on an input of $n$ values, we sum the products of the *cost* and *times* columns, obtaining\n",
    "\n",
    "$$\n",
    "T(n) = c_{1}n + c_{2}(n-1) + c_{4}(n-1) + c_{5}\\sum_{j=1}^{n}(t_{j}) + c_{6}\\sum_{j=1}^{n}(t_{j}-1) + c_{7}\\sum_{j=1}^{n}(t_{j}-1) + c_{8}(n-1) + c_{9} \n",
    "$$\n",
    "\n",
    "The best case occurs when the array $A$ is already sorted, therefore $A[i] < key$, therefore $t_j = 1$ and:\n",
    "\n",
    "$$\n",
    "T(n) = c{1}n + c_{2}(n-1) + c_{4}(n-1) + c_{5}(n-1) + c_{8}(n-1) + c_{9} \\\\\n",
    "= (c_{1} + c_{2} + c_{4} + c_{5} + c_{8})n - (c_{2} + c_{4} + c_{5} + c_{8} - c_{9}) \\\\\n",
    "= an + b\n",
    "$$\n",
    "\n",
    "which is a linear function of $n$.\n",
    "\n",
    "The worst case is when the array $A$ is in reverse oreder. We must compare each element $A[j]$ with each element in the entire sorted subarray $A[1 \\dots j-1]$ and do $t_j = j$ for $j=1,\\dots,n$. Then:\n",
    "\n",
    "$$\n",
    "T(n) =  c_{1}n + c_{2}(n-1) + c_{4}(n-1) + c_{5}\\sum_{j=1}^{n}j + c_{6}\\sum_{j=1}^{n}(j-1) + c_{7}\\sum_{j=1}^{n}(j-1) + c_{8}(n-1) + c_{9}\\\\\n",
    "=  c_{1}n + c_{2}(n-1) + c_{4}(n-1) + c_{5}\\left(\\frac{n(n-1)}{2}-1\\right) + c_{6}\\left(\\frac{n(n-1)}{2}\\right) + c_{7}\\left(\\frac{n(n-1)}{2}\\right) + c_{8}(n-1) + c_{9} \\\\\n",
    "= \\left(\\frac{c_5}{2} + \\frac{c_6}{2} + \\frac{c_7}{2}\\right)n^2 + (c_1 + c_2 + c_4 + \\frac{c_5}{2} - \\frac{c_6}{2} - \\frac{c_7}{2} + c_8)n - (c_2 + c_4 + c_5 + c_8)\\\\\n",
    "T(n) = an^2 + bn + c\n",
    "$$\n",
    "\n",
    "In this case we have a quadratic function of $n$."
   ]
  },
  {
   "cell_type": "code",
   "execution_count": null,
   "metadata": {},
   "outputs": [],
   "source": []
  }
 ],
 "metadata": {
  "kernelspec": {
   "display_name": "env",
   "language": "python",
   "name": "python3"
  },
  "language_info": {
   "codemirror_mode": {
    "name": "ipython",
    "version": 3
   },
   "file_extension": ".py",
   "mimetype": "text/x-python",
   "name": "python",
   "nbconvert_exporter": "python",
   "pygments_lexer": "ipython3",
   "version": "3.10.12"
  }
 },
 "nbformat": 4,
 "nbformat_minor": 2
}
