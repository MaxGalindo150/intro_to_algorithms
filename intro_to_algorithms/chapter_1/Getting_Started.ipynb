{
 "cells": [
  {
   "cell_type": "markdown",
   "metadata": {},
   "source": [
    "# Getting Started\n",
    "\n",
    "We begin by examining the inserion sort alghorithm to solve the sorting problem.\n",
    "\n",
    "## Insertion sort\n",
    "\n",
    "**Input:** A sequence of $n$ number $\\langle a_1, a_2,..., a_n \\rangle$\n",
    "\n",
    "**Output:** A permutation (reordering) $\\langle a_1, a_2,..., a_n \\rangle$ of the input sequence such that $a'_1 \\leq a'_2 \\leq ... \\leq a'_n$\n",
    "\n",
    "The **insertion sort** algorithm is very efficient for sorting a small number of elements. Insertion sort works the way many people sort a hand of playing cards. We start with an empty left hand and the cards face down on the table. We then remove one card at a time from the table and insert it into the correct postion in the left hand. To find the correct position for a card, we compare it with each of the cards already in the hand, from right to left. \n",
    "\n",
    "I present my code for insertion sort as a procedure called `insertion_sort`, which takes as a parameter an array `A[0:n]` containing a sequence of length `n` that is to be sorted. The algorith sorts the input numbers **in place**: it rearranges the numbers within the array `A`, with at most a constant number of them stored outside the array at any time. The input array `A` contains the sorted output sequence when the `insertion_sort` procedure is finished."
   ]
  },
  {
   "cell_type": "code",
   "execution_count": 2,
   "metadata": {},
   "outputs": [
    {
     "name": "stdout",
     "output_type": "stream",
     "text": [
      "Array unsorted: [5, 2, 4, 6, 1, 3]\n",
      "Sorted array: [1, 2, 3, 4, 5, 6]\n"
     ]
    }
   ],
   "source": [
    "def insertion_sort(A: list[int]) -> list[int]:\n",
    "    for j in range(1, len(A)):\n",
    "        key = A[j]\n",
    "        #insert A[j] into the sorted sequence A[1:j-1]\n",
    "        i = j - 1\n",
    "        while i >= 0 and A[i] > key:\n",
    "            A[i + 1] = A[i]\n",
    "            i -= 1\n",
    "        A[i + 1] = key\n",
    "    return A\n",
    "\n",
    "# Example\n",
    "A = [5, 2, 4, 6, 1, 3]\n",
    "print(f'Array unsorted: {A}')\n",
    "A = insertion_sort(A)\n",
    "print(f'Sorted array: {A}' )"
   ]
  },
  {
   "cell_type": "code",
   "execution_count": null,
   "metadata": {},
   "outputs": [],
   "source": []
  }
 ],
 "metadata": {
  "kernelspec": {
   "display_name": "env",
   "language": "python",
   "name": "python3"
  },
  "language_info": {
   "codemirror_mode": {
    "name": "ipython",
    "version": 3
   },
   "file_extension": ".py",
   "mimetype": "text/x-python",
   "name": "python",
   "nbconvert_exporter": "python",
   "pygments_lexer": "ipython3",
   "version": "3.10.12"
  }
 },
 "nbformat": 4,
 "nbformat_minor": 2
}
